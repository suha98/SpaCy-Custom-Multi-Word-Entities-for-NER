{
  "cells": [
    {
      "cell_type": "code",
      "execution_count": null,
      "metadata": {
        "id": "5vqskgEYMyQZ"
      },
      "outputs": [],
      "source": [
        "import pandas as pd\n",
        "import numpy as np\n",
        "import matplotlib.pyplot as plt\n",
        "import seaborn as sns\n",
        "from datetime import datetime as dt\n",
        "from datetime import time\n",
        "from dateutil.relativedelta import relativedelta\n",
        "from datetime import timedelta\n",
        "import regex as re\n",
        "\n",
        "\n",
        "import spacy\n",
        "from spacy.matcher import Matcher\n",
        "from spacy.util import filter_spans\n",
        "from spacy.tokenizer import Tokenizer\n",
        "from spacy.pipeline import EntityRuler\n",
        "import re\n",
        "from spacy.tokens import Span\n",
        "from spacy.util import filter_spans\n"
      ]
    },
    {
      "cell_type": "code",
      "execution_count": null,
      "metadata": {
        "id": "WWPyA2n1MyQd"
      },
      "outputs": [],
      "source": [
        "nlp = spacy.load(\"en_core_web_sm\")\n",
        "matcher = Matcher(nlp.vocab)\n",
        "tokenizer = nlp.tokenizer\n",
        "all_stopwords = nlp.Defaults.stop_words\n"
      ]
    },
    {
      "cell_type": "code",
      "execution_count": null,
      "metadata": {
        "id": "rd4HosP6MyQd"
      },
      "outputs": [],
      "source": [
        "#dataframe of descriptions\n",
        "df = pd.read_csv('data.csv')"
      ]
    },
    {
      "cell_type": "code",
      "execution_count": null,
      "metadata": {
        "id": "nXlEb37YMyQe"
      },
      "outputs": [],
      "source": [
        "#cleaning the descriptions\n",
        "def clean_notes(data, col_name):\n",
        "    data[col_name] = data[col_name].str.replace('lc', 'lamp column')\n",
        "    data[col_name] = data[col_name].str.replace('l/c', 'lamp column')\n",
        "    data[col_name] = data[col_name].str.replace('sugg', 'suggested')\n",
        "    data[col_name] = data[col_name].str.replace('rreturn', 'return')\n",
        "    data[col_name] = data[col_name].str.replace('o/s', 'outside')\n",
        "\n",
        "    return data"
      ]
    },
    {
      "cell_type": "code",
      "execution_count": null,
      "metadata": {
        "id": "Ko9acsDCMyQe"
      },
      "outputs": [],
      "source": [
        "df =clean_notes(df, 'job_notes')"
      ]
    },
    {
      "cell_type": "code",
      "execution_count": null,
      "metadata": {
        "id": "AYMt5OW4MyQf"
      },
      "outputs": [],
      "source": [
        "def regex_checker(text, pattern):\n",
        "    matches = re.finditer(pattern, text)\n",
        "    for match in matches:\n",
        "        print (match)\n"
      ]
    },
    {
      "cell_type": "code",
      "execution_count": null,
      "metadata": {
        "id": "_anLxwBkMyQh"
      },
      "outputs": [],
      "source": [
        "#initial pattern to match addresses\n",
        "patterns =  [{\"label\": \"ADDRESS\", \"pattern\": [\" ?outside \\d+ ?\", \" ?\\d{1,3} [A-Za-z]+ road\\.?\",\n",
        "                                             \" ?\\d{1,3} [A-Za-z]+ rd\\.?\",\" ?\\d{1,3} [A-Za-z]+ hill\\.?\",\n",
        "                                              \" ?\\d{1,3} [A-Za-z]+ Hill\\.?\", \" ?\\d{1,3} st\\.? [A-Za-z]+\",\n",
        "                                              \" ?\\d{1,3} saint\\.? [A-Za-z]+\"]}]\n",
        "                                              "
      ]
    },
    {
      "cell_type": "code",
      "execution_count": null,
      "metadata": {
        "id": "kKOHhezQMyQk",
        "outputId": "ecda6e53-5d3a-4540-e614-4648be0c8aab"
      },
      "outputs": [
        {
          "name": "stdout",
          "output_type": "stream",
          "text": [
            "<re.Match object; span=(11, 27), match=' 63 putney hill.'>\n",
            "<re.Match object; span=(11, 23), match=' outside 95 '>\n",
            "<re.Match object; span=(19, 30), match=' 95 st john'>\n",
            "<re.Match object; span=(14, 26), match=' outside 64 '>\n",
            "<re.Match object; span=(22, 37), match=' 64 lyford road'>\n",
            "<re.Match object; span=(11, 29), match=' 9 coalecroft road'>\n",
            "<re.Match object; span=(11, 27), match=' 11 lynwood road'>\n",
            "<re.Match object; span=(227, 239), match=' outside 76 '>\n",
            "<re.Match object; span=(210, 222), match=' 12 st johns'>\n",
            "<re.Match object; span=(13, 24), match=' outside 76'>\n",
            "<re.Match object; span=(11, 29), match=' 21 charlwood road'>\n",
            "<re.Match object; span=(11, 27), match=' 26 mitcham road'>\n",
            "<re.Match object; span=(14, 26), match=' outside 30 '>\n",
            "<re.Match object; span=(11, 26), match=' 9 beeches road'>\n",
            "<re.Match object; span=(11, 24), match=' 6 lombard rd'>\n",
            "<re.Match object; span=(11, 28), match=' 20 queenstown rd'>\n",
            "<re.Match object; span=(13, 25), match=' outside 15 '>\n",
            "<re.Match object; span=(21, 35), match=' 15 gwalior rd'>\n",
            "<re.Match object; span=(84, 96), match=' outside 91 '>\n",
            "<re.Match object; span=(11, 27), match=' 11 eardley road'>\n",
            "<re.Match object; span=(92, 108), match=' 91 eardley road'>\n",
            "<re.Match object; span=(15, 33), match=' 23 charlwood road'>\n",
            "<re.Match object; span=(11, 25), match=' 13 grant road'>\n",
            "<re.Match object; span=(11, 29), match=' 14 endlesham road'>\n",
            "<re.Match object; span=(11, 23), match=' 1 rush hill'>\n",
            "<re.Match object; span=(11, 28), match=' 32 stewarts road'>\n",
            "<re.Match object; span=(0, 11), match='outside 95 '>\n",
            "<re.Match object; span=(7, 24), match=' 95 buckhold road'>\n",
            "<re.Match object; span=(11, 26), match=' 9 beeches road'>\n",
            "<re.Match object; span=(11, 29), match=' 5 lockington road'>\n",
            "<re.Match object; span=(14, 27), match=' outside 148 '>\n",
            "<re.Match object; span=(23, 39), match='14 khartoum road'>\n",
            "<re.Match object; span=(288, 304), match='11 khartoum road'>\n",
            "<re.Match object; span=(11, 24), match=' 6 yukon road'>\n",
            "<re.Match object; span=(13, 25), match=' outside 15 '>\n",
            "<re.Match object; span=(21, 35), match=' 15 gwalior rd'>\n",
            "<re.Match object; span=(0, 12), match='outside 247 '>\n",
            "<re.Match object; span=(5, 17), match='2 byrne road'>\n",
            "<re.Match object; span=(91, 104), match=' 1 byrne road'>\n",
            "<re.Match object; span=(11, 28), match=' 1 tilehurst road'>\n",
            "<re.Match object; span=(11, 27), match=' 10 bedford hill'>\n",
            "<re.Match object; span=(11, 28), match=' 1 beauchamp road'>\n",
            "<re.Match object; span=(14, 27), match=' outside 196 '>\n",
            "<re.Match object; span=(22, 42), match=' 196 queenstown road'>\n",
            "<re.Match object; span=(62, 82), match=' 111 queenstown road'>\n",
            "<re.Match object; span=(13, 24), match=' outside 76'>\n",
            "<re.Match object; span=(11, 27), match=' 11 lynwood road'>\n",
            "<re.Match object; span=(11, 30), match=' 9 abbotsleigh road'>\n",
            "<re.Match object; span=(47, 63), match=' 9 ramsdale road'>\n",
            "<re.Match object; span=(14, 26), match=' outside 95 '>\n",
            "<re.Match object; span=(22, 34), match=' 95 st johns'>\n",
            "<re.Match object; span=(11, 27), match=' 33 mitcham road'>\n",
            "<re.Match object; span=(14, 27), match=' outside 196 '>\n",
            "<re.Match object; span=(22, 42), match=' 196 queenstown road'>\n",
            "<re.Match object; span=(62, 82), match=' 111 queenstown road'>\n",
            "<re.Match object; span=(38, 51), match=' outside 648 '>\n",
            "<re.Match object; span=(119, 135), match=' 26 welham road.'>\n",
            "<re.Match object; span=(11, 26), match=' 9 beeches road'>\n"
          ]
        }
      ],
      "source": [
        "docs = []\n",
        "entity_text = []\n",
        "#list of new entities\n",
        "new_ents = []\n",
        "\n",
        "for i in range(len(df)):\n",
        "    docs.append(df.iloc[i, 3])\n",
        "    doc = nlp(df.iloc[i, 3])\n",
        "\n",
        "    #saving the original entities in the description\n",
        "    original_ents = list(doc.ents)\n",
        "\n",
        "    #Identifying new multiple-word entities using regex patterns\n",
        "    for i in range(len(patterns)):\n",
        "      # because each label can have multiple patterns in a list\n",
        "        for j in range(len(patterns[i]['pattern'])):\n",
        "            for match in re.finditer(patterns[i]['pattern'][j], doc.text):\n",
        "                print (match)\n",
        "                start, end = match.span()\n",
        "                span = doc.char_span(start, end)\n",
        "                if span is not None:\n",
        "                    #appending start char, end char, and text of entity\n",
        "                    new_ents.append((span.start, span.end, span.text))\n",
        "                \n",
        "        for ent in new_ents:\n",
        "            start, end, name = ent\n",
        "            per_ent = Span(doc, start, end, label=patterns[i]['label'])\n",
        "            original_ents.append(per_ent)    \n",
        "\n",
        "    #this code prioritizes longer spans over shorter ones to prevent overlap between entities       \n",
        "    filtered = filter_spans(original_ents)\n",
        "    doc.ents = filtered\n",
        "    entity_text.append(doc.ents)"
      ]
    },
    {
      "cell_type": "code",
      "execution_count": null,
      "metadata": {
        "id": "o1gxqvXeMyQm"
      },
      "outputs": [],
      "source": [
        "entity_df = pd.DataFrame(list(zip(docs, entity_text)),\n",
        "               columns =['Text', 'Entity,Label'])\n"
      ]
    },
    {
      "cell_type": "code",
      "execution_count": null,
      "metadata": {
        "id": "fEC5Hk0vMyQm"
      },
      "outputs": [],
      "source": [
        "entity_df.to_csv('entity.csv')"
      ]
    }
  ],
  "metadata": {
    "kernelspec": {
      "display_name": "Python 3",
      "language": "python",
      "name": "python3"
    },
    "language_info": {
      "codemirror_mode": {
        "name": "ipython",
        "version": 3
      },
      "file_extension": ".py",
      "mimetype": "text/x-python",
      "name": "python",
      "nbconvert_exporter": "python",
      "pygments_lexer": "ipython3",
      "version": "3.8.5"
    },
    "colab": {
      "provenance": []
    }
  },
  "nbformat": 4,
  "nbformat_minor": 0
}
